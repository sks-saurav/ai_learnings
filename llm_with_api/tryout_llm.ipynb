{
 "cells": [
  {
   "cell_type": "code",
   "execution_count": 6,
   "id": "e4facee8",
   "metadata": {},
   "outputs": [
    {
     "name": "stdout",
     "output_type": "stream",
     "text": [
      "Defaulting to user installation because normal site-packages is not writeable\n",
      "Collecting google-genai\n",
      "  Downloading google_genai-1.34.0-py3-none-any.whl.metadata (43 kB)\n",
      "Requirement already satisfied: anyio<5.0.0,>=4.8.0 in c:\\users\\saura\\appdata\\local\\packages\\pythonsoftwarefoundation.python.3.13_qbz5n2kfra8p0\\localcache\\local-packages\\python313\\site-packages (from google-genai) (4.10.0)\n",
      "Collecting google-auth<3.0.0,>=2.14.1 (from google-genai)\n",
      "  Downloading google_auth-2.40.3-py2.py3-none-any.whl.metadata (6.2 kB)\n",
      "Requirement already satisfied: httpx<1.0.0,>=0.28.1 in c:\\users\\saura\\appdata\\local\\packages\\pythonsoftwarefoundation.python.3.13_qbz5n2kfra8p0\\localcache\\local-packages\\python313\\site-packages (from google-genai) (0.28.1)\n",
      "Requirement already satisfied: pydantic<3.0.0,>=2.0.0 in c:\\users\\saura\\appdata\\local\\packages\\pythonsoftwarefoundation.python.3.13_qbz5n2kfra8p0\\localcache\\local-packages\\python313\\site-packages (from google-genai) (2.11.7)\n",
      "Requirement already satisfied: requests<3.0.0,>=2.28.1 in c:\\users\\saura\\appdata\\local\\packages\\pythonsoftwarefoundation.python.3.13_qbz5n2kfra8p0\\localcache\\local-packages\\python313\\site-packages (from google-genai) (2.32.5)\n",
      "Requirement already satisfied: tenacity<9.2.0,>=8.2.3 in c:\\users\\saura\\appdata\\local\\packages\\pythonsoftwarefoundation.python.3.13_qbz5n2kfra8p0\\localcache\\local-packages\\python313\\site-packages (from google-genai) (9.1.2)\n",
      "Collecting websockets<15.1.0,>=13.0.0 (from google-genai)\n",
      "  Downloading websockets-15.0.1-cp313-cp313-win_amd64.whl.metadata (7.0 kB)\n",
      "Requirement already satisfied: typing-extensions<5.0.0,>=4.11.0 in c:\\users\\saura\\appdata\\local\\packages\\pythonsoftwarefoundation.python.3.13_qbz5n2kfra8p0\\localcache\\local-packages\\python313\\site-packages (from google-genai) (4.15.0)\n",
      "Requirement already satisfied: idna>=2.8 in c:\\users\\saura\\appdata\\local\\packages\\pythonsoftwarefoundation.python.3.13_qbz5n2kfra8p0\\localcache\\local-packages\\python313\\site-packages (from anyio<5.0.0,>=4.8.0->google-genai) (3.10)\n",
      "Requirement already satisfied: sniffio>=1.1 in c:\\users\\saura\\appdata\\local\\packages\\pythonsoftwarefoundation.python.3.13_qbz5n2kfra8p0\\localcache\\local-packages\\python313\\site-packages (from anyio<5.0.0,>=4.8.0->google-genai) (1.3.1)\n",
      "Collecting cachetools<6.0,>=2.0.0 (from google-auth<3.0.0,>=2.14.1->google-genai)\n",
      "  Downloading cachetools-5.5.2-py3-none-any.whl.metadata (5.4 kB)\n",
      "Collecting pyasn1-modules>=0.2.1 (from google-auth<3.0.0,>=2.14.1->google-genai)\n",
      "  Downloading pyasn1_modules-0.4.2-py3-none-any.whl.metadata (3.5 kB)\n",
      "Collecting rsa<5,>=3.1.4 (from google-auth<3.0.0,>=2.14.1->google-genai)\n",
      "  Downloading rsa-4.9.1-py3-none-any.whl.metadata (5.6 kB)\n",
      "Requirement already satisfied: certifi in c:\\users\\saura\\appdata\\local\\packages\\pythonsoftwarefoundation.python.3.13_qbz5n2kfra8p0\\localcache\\local-packages\\python313\\site-packages (from httpx<1.0.0,>=0.28.1->google-genai) (2025.8.3)\n",
      "Requirement already satisfied: httpcore==1.* in c:\\users\\saura\\appdata\\local\\packages\\pythonsoftwarefoundation.python.3.13_qbz5n2kfra8p0\\localcache\\local-packages\\python313\\site-packages (from httpx<1.0.0,>=0.28.1->google-genai) (1.0.9)\n",
      "Requirement already satisfied: h11>=0.16 in c:\\users\\saura\\appdata\\local\\packages\\pythonsoftwarefoundation.python.3.13_qbz5n2kfra8p0\\localcache\\local-packages\\python313\\site-packages (from httpcore==1.*->httpx<1.0.0,>=0.28.1->google-genai) (0.16.0)\n",
      "Requirement already satisfied: annotated-types>=0.6.0 in c:\\users\\saura\\appdata\\local\\packages\\pythonsoftwarefoundation.python.3.13_qbz5n2kfra8p0\\localcache\\local-packages\\python313\\site-packages (from pydantic<3.0.0,>=2.0.0->google-genai) (0.7.0)\n",
      "Requirement already satisfied: pydantic-core==2.33.2 in c:\\users\\saura\\appdata\\local\\packages\\pythonsoftwarefoundation.python.3.13_qbz5n2kfra8p0\\localcache\\local-packages\\python313\\site-packages (from pydantic<3.0.0,>=2.0.0->google-genai) (2.33.2)\n",
      "Requirement already satisfied: typing-inspection>=0.4.0 in c:\\users\\saura\\appdata\\local\\packages\\pythonsoftwarefoundation.python.3.13_qbz5n2kfra8p0\\localcache\\local-packages\\python313\\site-packages (from pydantic<3.0.0,>=2.0.0->google-genai) (0.4.1)\n",
      "Requirement already satisfied: charset_normalizer<4,>=2 in c:\\users\\saura\\appdata\\local\\packages\\pythonsoftwarefoundation.python.3.13_qbz5n2kfra8p0\\localcache\\local-packages\\python313\\site-packages (from requests<3.0.0,>=2.28.1->google-genai) (3.4.3)\n",
      "Requirement already satisfied: urllib3<3,>=1.21.1 in c:\\users\\saura\\appdata\\local\\packages\\pythonsoftwarefoundation.python.3.13_qbz5n2kfra8p0\\localcache\\local-packages\\python313\\site-packages (from requests<3.0.0,>=2.28.1->google-genai) (2.5.0)\n",
      "Collecting pyasn1>=0.1.3 (from rsa<5,>=3.1.4->google-auth<3.0.0,>=2.14.1->google-genai)\n",
      "  Downloading pyasn1-0.6.1-py3-none-any.whl.metadata (8.4 kB)\n",
      "Downloading google_genai-1.34.0-py3-none-any.whl (244 kB)\n",
      "Downloading google_auth-2.40.3-py2.py3-none-any.whl (216 kB)\n",
      "Downloading cachetools-5.5.2-py3-none-any.whl (10 kB)\n",
      "Downloading rsa-4.9.1-py3-none-any.whl (34 kB)\n",
      "Downloading websockets-15.0.1-cp313-cp313-win_amd64.whl (176 kB)\n",
      "Downloading pyasn1-0.6.1-py3-none-any.whl (83 kB)\n",
      "Downloading pyasn1_modules-0.4.2-py3-none-any.whl (181 kB)\n",
      "Installing collected packages: websockets, pyasn1, cachetools, rsa, pyasn1-modules, google-auth, google-genai\n",
      "\n",
      "   ---------------------------------------- 0/7 [websockets]\n",
      "   ---------------------------------------- 0/7 [websockets]\n",
      "   ---------------------------------------- 0/7 [websockets]\n",
      "   ---------------------------------------- 0/7 [websockets]\n",
      "   ---------------------------------------- 0/7 [websockets]\n",
      "   ---------------------------------------- 0/7 [websockets]\n",
      "   ----- ---------------------------------- 1/7 [pyasn1]\n",
      "   ----- ---------------------------------- 1/7 [pyasn1]\n",
      "   ----- ---------------------------------- 1/7 [pyasn1]\n",
      "   ----------------- ---------------------- 3/7 [rsa]\n",
      "   ----------------- ---------------------- 3/7 [rsa]\n",
      "   ----------------- ---------------------- 3/7 [rsa]\n",
      "   ----------------- ---------------------- 3/7 [rsa]\n",
      "   ----------------- ---------------------- 3/7 [rsa]\n",
      "   ----------------- ---------------------- 3/7 [rsa]\n",
      "   ---------------------- ----------------- 4/7 [pyasn1-modules]\n",
      "   ---------------------- ----------------- 4/7 [pyasn1-modules]\n",
      "   ---------------------- ----------------- 4/7 [pyasn1-modules]\n",
      "   ---------------------- ----------------- 4/7 [pyasn1-modules]\n",
      "   ---------------------- ----------------- 4/7 [pyasn1-modules]\n",
      "   ---------------------- ----------------- 4/7 [pyasn1-modules]\n",
      "   ---------------------- ----------------- 4/7 [pyasn1-modules]\n",
      "   ---------------------- ----------------- 4/7 [pyasn1-modules]\n",
      "   ---------------------- ----------------- 4/7 [pyasn1-modules]\n",
      "   ---------------------- ----------------- 4/7 [pyasn1-modules]\n",
      "   ---------------------- ----------------- 4/7 [pyasn1-modules]\n",
      "   ---------------------- ----------------- 4/7 [pyasn1-modules]\n",
      "   ---------------------- ----------------- 4/7 [pyasn1-modules]\n",
      "   ---------------------- ----------------- 4/7 [pyasn1-modules]\n",
      "   ---------------------------- ----------- 5/7 [google-auth]\n",
      "   ---------------------------- ----------- 5/7 [google-auth]\n",
      "   ---------------------------- ----------- 5/7 [google-auth]\n",
      "   ---------------------------- ----------- 5/7 [google-auth]\n",
      "   ---------------------------- ----------- 5/7 [google-auth]\n",
      "   ---------------------------- ----------- 5/7 [google-auth]\n",
      "   ---------------------------- ----------- 5/7 [google-auth]\n",
      "   ---------------------------- ----------- 5/7 [google-auth]\n",
      "   ---------------------------------- ----- 6/7 [google-genai]\n",
      "   ---------------------------------- ----- 6/7 [google-genai]\n",
      "   ---------------------------------- ----- 6/7 [google-genai]\n",
      "   ---------------------------------- ----- 6/7 [google-genai]\n",
      "   ---------------------------------- ----- 6/7 [google-genai]\n",
      "   ---------------------------------------- 7/7 [google-genai]\n",
      "\n",
      "Successfully installed cachetools-5.5.2 google-auth-2.40.3 google-genai-1.34.0 pyasn1-0.6.1 pyasn1-modules-0.4.2 rsa-4.9.1 websockets-15.0.1\n"
     ]
    }
   ],
   "source": [
    "!pip install google-genai\n"
   ]
  },
  {
   "cell_type": "code",
   "execution_count": 8,
   "id": "d2ae85c8",
   "metadata": {},
   "outputs": [
    {
     "name": "stdout",
     "output_type": "stream",
     "text": [
      "AI learns patterns from data to make decisions or perform tasks.\n"
     ]
    }
   ],
   "source": [
    "from google import genai\n",
    "\n",
    "client = genai.Client(api_key=key)\n",
    "\n",
    "response = client.models.generate_content(\n",
    "    model=\"gemini-2.5-flash\", contents=\"Explain how AI works in a few words\"\n",
    ")\n",
    "print(response.text)"
   ]
  },
  {
   "cell_type": "code",
   "execution_count": null,
   "id": "854e76a7",
   "metadata": {},
   "outputs": [],
   "source": []
  }
 ],
 "metadata": {
  "kernelspec": {
   "display_name": "Python 3",
   "language": "python",
   "name": "python3"
  },
  "language_info": {
   "codemirror_mode": {
    "name": "ipython",
    "version": 3
   },
   "file_extension": ".py",
   "mimetype": "text/x-python",
   "name": "python",
   "nbconvert_exporter": "python",
   "pygments_lexer": "ipython3",
   "version": "3.13.7"
  }
 },
 "nbformat": 4,
 "nbformat_minor": 5
}
