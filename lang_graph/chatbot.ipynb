{
 "cells": [
  {
   "cell_type": "code",
   "execution_count": 2,
   "id": "ab9c7df4",
   "metadata": {},
   "outputs": [
    {
     "name": "stdout",
     "output_type": "stream",
     "text": [
      "Defaulting to user installation because normal site-packages is not writeable\n",
      "Collecting python-dotenv\n",
      "  Downloading python_dotenv-1.1.1-py3-none-any.whl.metadata (24 kB)\n",
      "Downloading python_dotenv-1.1.1-py3-none-any.whl (20 kB)\n",
      "Installing collected packages: python-dotenv\n",
      "Successfully installed python-dotenv-1.1.1\n"
     ]
    }
   ],
   "source": [
    "!pip install python-dotenv"
   ]
  },
  {
   "cell_type": "code",
   "execution_count": 6,
   "id": "ff8d50c0",
   "metadata": {},
   "outputs": [
    {
     "data": {
      "text/plain": [
       "True"
      ]
     },
     "execution_count": 6,
     "metadata": {},
     "output_type": "execute_result"
    }
   ],
   "source": [
    "from dotenv import load_dotenv\n",
    "load_dotenv()"
   ]
  },
  {
   "cell_type": "code",
   "execution_count": 10,
   "id": "8b0f6606",
   "metadata": {},
   "outputs": [
    {
     "name": "stdout",
     "output_type": "stream",
     "text": [
      "Defaulting to user installation because normal site-packages is not writeable\n",
      "Collecting langchain-google-genai\n",
      "  Downloading langchain_google_genai-2.1.10-py3-none-any.whl.metadata (7.2 kB)\n",
      "Collecting langchain\n",
      "  Downloading langchain-0.3.27-py3-none-any.whl.metadata (7.8 kB)\n",
      "Collecting filetype<2.0.0,>=1.2.0 (from langchain-google-genai)\n",
      "  Downloading filetype-1.2.0-py2.py3-none-any.whl.metadata (6.5 kB)\n",
      "Collecting google-ai-generativelanguage<0.7.0,>=0.6.18 (from langchain-google-genai)\n",
      "  Downloading google_ai_generativelanguage-0.6.18-py3-none-any.whl.metadata (9.8 kB)\n",
      "Requirement already satisfied: langchain-core<0.4.0,>=0.3.75 in c:\\users\\saura\\appdata\\local\\packages\\pythonsoftwarefoundation.python.3.13_qbz5n2kfra8p0\\localcache\\local-packages\\python313\\site-packages (from langchain-google-genai) (0.3.75)\n",
      "Requirement already satisfied: pydantic<3,>=2 in c:\\users\\saura\\appdata\\local\\packages\\pythonsoftwarefoundation.python.3.13_qbz5n2kfra8p0\\localcache\\local-packages\\python313\\site-packages (from langchain-google-genai) (2.11.7)\n",
      "Collecting google-api-core!=2.0.*,!=2.1.*,!=2.10.*,!=2.2.*,!=2.3.*,!=2.4.*,!=2.5.*,!=2.6.*,!=2.7.*,!=2.8.*,!=2.9.*,<3.0.0,>=1.34.1 (from google-api-core[grpc]!=2.0.*,!=2.1.*,!=2.10.*,!=2.2.*,!=2.3.*,!=2.4.*,!=2.5.*,!=2.6.*,!=2.7.*,!=2.8.*,!=2.9.*,<3.0.0,>=1.34.1->google-ai-generativelanguage<0.7.0,>=0.6.18->langchain-google-genai)\n",
      "  Downloading google_api_core-2.25.1-py3-none-any.whl.metadata (3.0 kB)\n",
      "Requirement already satisfied: google-auth!=2.24.0,!=2.25.0,<3.0.0,>=2.14.1 in c:\\users\\saura\\appdata\\local\\packages\\pythonsoftwarefoundation.python.3.13_qbz5n2kfra8p0\\localcache\\local-packages\\python313\\site-packages (from google-ai-generativelanguage<0.7.0,>=0.6.18->langchain-google-genai) (2.40.3)\n",
      "Collecting proto-plus<2.0.0,>=1.22.3 (from google-ai-generativelanguage<0.7.0,>=0.6.18->langchain-google-genai)\n",
      "  Downloading proto_plus-1.26.1-py3-none-any.whl.metadata (2.2 kB)\n",
      "Collecting protobuf!=4.21.0,!=4.21.1,!=4.21.2,!=4.21.3,!=4.21.4,!=4.21.5,<7.0.0,>=3.20.2 (from google-ai-generativelanguage<0.7.0,>=0.6.18->langchain-google-genai)\n",
      "  Downloading protobuf-6.32.0-cp310-abi3-win_amd64.whl.metadata (593 bytes)\n",
      "Collecting googleapis-common-protos<2.0.0,>=1.56.2 (from google-api-core!=2.0.*,!=2.1.*,!=2.10.*,!=2.2.*,!=2.3.*,!=2.4.*,!=2.5.*,!=2.6.*,!=2.7.*,!=2.8.*,!=2.9.*,<3.0.0,>=1.34.1->google-api-core[grpc]!=2.0.*,!=2.1.*,!=2.10.*,!=2.2.*,!=2.3.*,!=2.4.*,!=2.5.*,!=2.6.*,!=2.7.*,!=2.8.*,!=2.9.*,<3.0.0,>=1.34.1->google-ai-generativelanguage<0.7.0,>=0.6.18->langchain-google-genai)\n",
      "  Downloading googleapis_common_protos-1.70.0-py3-none-any.whl.metadata (9.3 kB)\n",
      "Requirement already satisfied: requests<3.0.0,>=2.18.0 in c:\\users\\saura\\appdata\\local\\packages\\pythonsoftwarefoundation.python.3.13_qbz5n2kfra8p0\\localcache\\local-packages\\python313\\site-packages (from google-api-core!=2.0.*,!=2.1.*,!=2.10.*,!=2.2.*,!=2.3.*,!=2.4.*,!=2.5.*,!=2.6.*,!=2.7.*,!=2.8.*,!=2.9.*,<3.0.0,>=1.34.1->google-api-core[grpc]!=2.0.*,!=2.1.*,!=2.10.*,!=2.2.*,!=2.3.*,!=2.4.*,!=2.5.*,!=2.6.*,!=2.7.*,!=2.8.*,!=2.9.*,<3.0.0,>=1.34.1->google-ai-generativelanguage<0.7.0,>=0.6.18->langchain-google-genai) (2.32.5)\n",
      "Collecting grpcio<2.0.0,>=1.33.2 (from google-api-core[grpc]!=2.0.*,!=2.1.*,!=2.10.*,!=2.2.*,!=2.3.*,!=2.4.*,!=2.5.*,!=2.6.*,!=2.7.*,!=2.8.*,!=2.9.*,<3.0.0,>=1.34.1->google-ai-generativelanguage<0.7.0,>=0.6.18->langchain-google-genai)\n",
      "  Downloading grpcio-1.74.0-cp313-cp313-win_amd64.whl.metadata (4.0 kB)\n",
      "Collecting grpcio-status<2.0.0,>=1.33.2 (from google-api-core[grpc]!=2.0.*,!=2.1.*,!=2.10.*,!=2.2.*,!=2.3.*,!=2.4.*,!=2.5.*,!=2.6.*,!=2.7.*,!=2.8.*,!=2.9.*,<3.0.0,>=1.34.1->google-ai-generativelanguage<0.7.0,>=0.6.18->langchain-google-genai)\n",
      "  Downloading grpcio_status-1.74.0-py3-none-any.whl.metadata (1.1 kB)\n",
      "Requirement already satisfied: cachetools<6.0,>=2.0.0 in c:\\users\\saura\\appdata\\local\\packages\\pythonsoftwarefoundation.python.3.13_qbz5n2kfra8p0\\localcache\\local-packages\\python313\\site-packages (from google-auth!=2.24.0,!=2.25.0,<3.0.0,>=2.14.1->google-ai-generativelanguage<0.7.0,>=0.6.18->langchain-google-genai) (5.5.2)\n",
      "Requirement already satisfied: pyasn1-modules>=0.2.1 in c:\\users\\saura\\appdata\\local\\packages\\pythonsoftwarefoundation.python.3.13_qbz5n2kfra8p0\\localcache\\local-packages\\python313\\site-packages (from google-auth!=2.24.0,!=2.25.0,<3.0.0,>=2.14.1->google-ai-generativelanguage<0.7.0,>=0.6.18->langchain-google-genai) (0.4.2)\n",
      "Requirement already satisfied: rsa<5,>=3.1.4 in c:\\users\\saura\\appdata\\local\\packages\\pythonsoftwarefoundation.python.3.13_qbz5n2kfra8p0\\localcache\\local-packages\\python313\\site-packages (from google-auth!=2.24.0,!=2.25.0,<3.0.0,>=2.14.1->google-ai-generativelanguage<0.7.0,>=0.6.18->langchain-google-genai) (4.9.1)\n",
      "Requirement already satisfied: langsmith>=0.3.45 in c:\\users\\saura\\appdata\\local\\packages\\pythonsoftwarefoundation.python.3.13_qbz5n2kfra8p0\\localcache\\local-packages\\python313\\site-packages (from langchain-core<0.4.0,>=0.3.75->langchain-google-genai) (0.4.27)\n",
      "Requirement already satisfied: tenacity!=8.4.0,<10.0.0,>=8.1.0 in c:\\users\\saura\\appdata\\local\\packages\\pythonsoftwarefoundation.python.3.13_qbz5n2kfra8p0\\localcache\\local-packages\\python313\\site-packages (from langchain-core<0.4.0,>=0.3.75->langchain-google-genai) (9.1.2)\n",
      "Requirement already satisfied: jsonpatch<2.0,>=1.33 in c:\\users\\saura\\appdata\\local\\packages\\pythonsoftwarefoundation.python.3.13_qbz5n2kfra8p0\\localcache\\local-packages\\python313\\site-packages (from langchain-core<0.4.0,>=0.3.75->langchain-google-genai) (1.33)\n",
      "Requirement already satisfied: PyYAML>=5.3 in c:\\users\\saura\\appdata\\local\\packages\\pythonsoftwarefoundation.python.3.13_qbz5n2kfra8p0\\localcache\\local-packages\\python313\\site-packages (from langchain-core<0.4.0,>=0.3.75->langchain-google-genai) (6.0.2)\n",
      "Requirement already satisfied: typing-extensions>=4.7 in c:\\users\\saura\\appdata\\local\\packages\\pythonsoftwarefoundation.python.3.13_qbz5n2kfra8p0\\localcache\\local-packages\\python313\\site-packages (from langchain-core<0.4.0,>=0.3.75->langchain-google-genai) (4.15.0)\n",
      "Requirement already satisfied: packaging>=23.2 in c:\\users\\saura\\appdata\\local\\packages\\pythonsoftwarefoundation.python.3.13_qbz5n2kfra8p0\\localcache\\local-packages\\python313\\site-packages (from langchain-core<0.4.0,>=0.3.75->langchain-google-genai) (25.0)\n",
      "Requirement already satisfied: jsonpointer>=1.9 in c:\\users\\saura\\appdata\\local\\packages\\pythonsoftwarefoundation.python.3.13_qbz5n2kfra8p0\\localcache\\local-packages\\python313\\site-packages (from jsonpatch<2.0,>=1.33->langchain-core<0.4.0,>=0.3.75->langchain-google-genai) (3.0.0)\n",
      "Requirement already satisfied: annotated-types>=0.6.0 in c:\\users\\saura\\appdata\\local\\packages\\pythonsoftwarefoundation.python.3.13_qbz5n2kfra8p0\\localcache\\local-packages\\python313\\site-packages (from pydantic<3,>=2->langchain-google-genai) (0.7.0)\n",
      "Requirement already satisfied: pydantic-core==2.33.2 in c:\\users\\saura\\appdata\\local\\packages\\pythonsoftwarefoundation.python.3.13_qbz5n2kfra8p0\\localcache\\local-packages\\python313\\site-packages (from pydantic<3,>=2->langchain-google-genai) (2.33.2)\n",
      "Requirement already satisfied: typing-inspection>=0.4.0 in c:\\users\\saura\\appdata\\local\\packages\\pythonsoftwarefoundation.python.3.13_qbz5n2kfra8p0\\localcache\\local-packages\\python313\\site-packages (from pydantic<3,>=2->langchain-google-genai) (0.4.1)\n",
      "Requirement already satisfied: charset_normalizer<4,>=2 in c:\\users\\saura\\appdata\\local\\packages\\pythonsoftwarefoundation.python.3.13_qbz5n2kfra8p0\\localcache\\local-packages\\python313\\site-packages (from requests<3.0.0,>=2.18.0->google-api-core!=2.0.*,!=2.1.*,!=2.10.*,!=2.2.*,!=2.3.*,!=2.4.*,!=2.5.*,!=2.6.*,!=2.7.*,!=2.8.*,!=2.9.*,<3.0.0,>=1.34.1->google-api-core[grpc]!=2.0.*,!=2.1.*,!=2.10.*,!=2.2.*,!=2.3.*,!=2.4.*,!=2.5.*,!=2.6.*,!=2.7.*,!=2.8.*,!=2.9.*,<3.0.0,>=1.34.1->google-ai-generativelanguage<0.7.0,>=0.6.18->langchain-google-genai) (3.4.3)\n",
      "Requirement already satisfied: idna<4,>=2.5 in c:\\users\\saura\\appdata\\local\\packages\\pythonsoftwarefoundation.python.3.13_qbz5n2kfra8p0\\localcache\\local-packages\\python313\\site-packages (from requests<3.0.0,>=2.18.0->google-api-core!=2.0.*,!=2.1.*,!=2.10.*,!=2.2.*,!=2.3.*,!=2.4.*,!=2.5.*,!=2.6.*,!=2.7.*,!=2.8.*,!=2.9.*,<3.0.0,>=1.34.1->google-api-core[grpc]!=2.0.*,!=2.1.*,!=2.10.*,!=2.2.*,!=2.3.*,!=2.4.*,!=2.5.*,!=2.6.*,!=2.7.*,!=2.8.*,!=2.9.*,<3.0.0,>=1.34.1->google-ai-generativelanguage<0.7.0,>=0.6.18->langchain-google-genai) (3.10)\n",
      "Requirement already satisfied: urllib3<3,>=1.21.1 in c:\\users\\saura\\appdata\\local\\packages\\pythonsoftwarefoundation.python.3.13_qbz5n2kfra8p0\\localcache\\local-packages\\python313\\site-packages (from requests<3.0.0,>=2.18.0->google-api-core!=2.0.*,!=2.1.*,!=2.10.*,!=2.2.*,!=2.3.*,!=2.4.*,!=2.5.*,!=2.6.*,!=2.7.*,!=2.8.*,!=2.9.*,<3.0.0,>=1.34.1->google-api-core[grpc]!=2.0.*,!=2.1.*,!=2.10.*,!=2.2.*,!=2.3.*,!=2.4.*,!=2.5.*,!=2.6.*,!=2.7.*,!=2.8.*,!=2.9.*,<3.0.0,>=1.34.1->google-ai-generativelanguage<0.7.0,>=0.6.18->langchain-google-genai) (2.5.0)\n",
      "Requirement already satisfied: certifi>=2017.4.17 in c:\\users\\saura\\appdata\\local\\packages\\pythonsoftwarefoundation.python.3.13_qbz5n2kfra8p0\\localcache\\local-packages\\python313\\site-packages (from requests<3.0.0,>=2.18.0->google-api-core!=2.0.*,!=2.1.*,!=2.10.*,!=2.2.*,!=2.3.*,!=2.4.*,!=2.5.*,!=2.6.*,!=2.7.*,!=2.8.*,!=2.9.*,<3.0.0,>=1.34.1->google-api-core[grpc]!=2.0.*,!=2.1.*,!=2.10.*,!=2.2.*,!=2.3.*,!=2.4.*,!=2.5.*,!=2.6.*,!=2.7.*,!=2.8.*,!=2.9.*,<3.0.0,>=1.34.1->google-ai-generativelanguage<0.7.0,>=0.6.18->langchain-google-genai) (2025.8.3)\n",
      "Requirement already satisfied: pyasn1>=0.1.3 in c:\\users\\saura\\appdata\\local\\packages\\pythonsoftwarefoundation.python.3.13_qbz5n2kfra8p0\\localcache\\local-packages\\python313\\site-packages (from rsa<5,>=3.1.4->google-auth!=2.24.0,!=2.25.0,<3.0.0,>=2.14.1->google-ai-generativelanguage<0.7.0,>=0.6.18->langchain-google-genai) (0.6.1)\n",
      "Collecting langchain-text-splitters<1.0.0,>=0.3.9 (from langchain)\n",
      "  Downloading langchain_text_splitters-0.3.11-py3-none-any.whl.metadata (1.8 kB)\n",
      "Collecting SQLAlchemy<3,>=1.4 (from langchain)\n",
      "  Downloading sqlalchemy-2.0.43-cp313-cp313-win_amd64.whl.metadata (9.8 kB)\n",
      "Collecting greenlet>=1 (from SQLAlchemy<3,>=1.4->langchain)\n",
      "  Downloading greenlet-3.2.4-cp313-cp313-win_amd64.whl.metadata (4.2 kB)\n",
      "Requirement already satisfied: httpx<1,>=0.23.0 in c:\\users\\saura\\appdata\\local\\packages\\pythonsoftwarefoundation.python.3.13_qbz5n2kfra8p0\\localcache\\local-packages\\python313\\site-packages (from langsmith>=0.3.45->langchain-core<0.4.0,>=0.3.75->langchain-google-genai) (0.28.1)\n",
      "Requirement already satisfied: orjson>=3.9.14 in c:\\users\\saura\\appdata\\local\\packages\\pythonsoftwarefoundation.python.3.13_qbz5n2kfra8p0\\localcache\\local-packages\\python313\\site-packages (from langsmith>=0.3.45->langchain-core<0.4.0,>=0.3.75->langchain-google-genai) (3.11.3)\n",
      "Requirement already satisfied: requests-toolbelt>=1.0.0 in c:\\users\\saura\\appdata\\local\\packages\\pythonsoftwarefoundation.python.3.13_qbz5n2kfra8p0\\localcache\\local-packages\\python313\\site-packages (from langsmith>=0.3.45->langchain-core<0.4.0,>=0.3.75->langchain-google-genai) (1.0.0)\n",
      "Requirement already satisfied: zstandard>=0.23.0 in c:\\users\\saura\\appdata\\local\\packages\\pythonsoftwarefoundation.python.3.13_qbz5n2kfra8p0\\localcache\\local-packages\\python313\\site-packages (from langsmith>=0.3.45->langchain-core<0.4.0,>=0.3.75->langchain-google-genai) (0.24.0)\n",
      "Requirement already satisfied: anyio in c:\\users\\saura\\appdata\\local\\packages\\pythonsoftwarefoundation.python.3.13_qbz5n2kfra8p0\\localcache\\local-packages\\python313\\site-packages (from httpx<1,>=0.23.0->langsmith>=0.3.45->langchain-core<0.4.0,>=0.3.75->langchain-google-genai) (4.10.0)\n",
      "Requirement already satisfied: httpcore==1.* in c:\\users\\saura\\appdata\\local\\packages\\pythonsoftwarefoundation.python.3.13_qbz5n2kfra8p0\\localcache\\local-packages\\python313\\site-packages (from httpx<1,>=0.23.0->langsmith>=0.3.45->langchain-core<0.4.0,>=0.3.75->langchain-google-genai) (1.0.9)\n",
      "Requirement already satisfied: h11>=0.16 in c:\\users\\saura\\appdata\\local\\packages\\pythonsoftwarefoundation.python.3.13_qbz5n2kfra8p0\\localcache\\local-packages\\python313\\site-packages (from httpcore==1.*->httpx<1,>=0.23.0->langsmith>=0.3.45->langchain-core<0.4.0,>=0.3.75->langchain-google-genai) (0.16.0)\n",
      "Requirement already satisfied: sniffio>=1.1 in c:\\users\\saura\\appdata\\local\\packages\\pythonsoftwarefoundation.python.3.13_qbz5n2kfra8p0\\localcache\\local-packages\\python313\\site-packages (from anyio->httpx<1,>=0.23.0->langsmith>=0.3.45->langchain-core<0.4.0,>=0.3.75->langchain-google-genai) (1.3.1)\n",
      "Downloading langchain_google_genai-2.1.10-py3-none-any.whl (49 kB)\n",
      "Downloading filetype-1.2.0-py2.py3-none-any.whl (19 kB)\n",
      "Downloading google_ai_generativelanguage-0.6.18-py3-none-any.whl (1.4 MB)\n",
      "   ---------------------------------------- 0.0/1.4 MB ? eta -:--:--\n",
      "   ---------------------------------------- 1.4/1.4 MB 7.8 MB/s  0:00:00\n",
      "Downloading google_api_core-2.25.1-py3-none-any.whl (160 kB)\n",
      "Downloading googleapis_common_protos-1.70.0-py3-none-any.whl (294 kB)\n",
      "Downloading grpcio-1.74.0-cp313-cp313-win_amd64.whl (4.5 MB)\n",
      "   ---------------------------------------- 0.0/4.5 MB ? eta -:--:--\n",
      "   --------------------- ------------------ 2.4/4.5 MB 10.7 MB/s eta 0:00:01\n",
      "   ---------------------------------------- 4.5/4.5 MB 11.8 MB/s  0:00:00\n",
      "Downloading grpcio_status-1.74.0-py3-none-any.whl (14 kB)\n",
      "Downloading proto_plus-1.26.1-py3-none-any.whl (50 kB)\n",
      "Downloading protobuf-6.32.0-cp310-abi3-win_amd64.whl (435 kB)\n",
      "Downloading langchain-0.3.27-py3-none-any.whl (1.0 MB)\n",
      "   ---------------------------------------- 0.0/1.0 MB ? eta -:--:--\n",
      "   ---------------------------------------- 1.0/1.0 MB 5.5 MB/s  0:00:00\n",
      "Downloading langchain_text_splitters-0.3.11-py3-none-any.whl (33 kB)\n",
      "Downloading sqlalchemy-2.0.43-cp313-cp313-win_amd64.whl (2.1 MB)\n",
      "   ---------------------------------------- 0.0/2.1 MB ? eta -:--:--\n",
      "   ---------------------------------- ----- 1.8/2.1 MB 12.4 MB/s eta 0:00:01\n",
      "   ---------------------------------------- 2.1/2.1 MB 10.8 MB/s  0:00:00\n",
      "Downloading greenlet-3.2.4-cp313-cp313-win_amd64.whl (299 kB)\n",
      "Installing collected packages: filetype, protobuf, grpcio, greenlet, SQLAlchemy, proto-plus, googleapis-common-protos, grpcio-status, google-api-core, langchain-text-splitters, google-ai-generativelanguage, langchain-google-genai, langchain\n",
      "\n",
      "   ----------------------------------------  0/13 [filetype]\n",
      "   ----------------------------------------  0/13 [filetype]\n",
      "   --- ------------------------------------  1/13 [protobuf]\n",
      "   --- ------------------------------------  1/13 [protobuf]\n",
      "   --- ------------------------------------  1/13 [protobuf]\n",
      "   --- ------------------------------------  1/13 [protobuf]\n",
      "   --- ------------------------------------  1/13 [protobuf]\n",
      "   --- ------------------------------------  1/13 [protobuf]\n",
      "   --- ------------------------------------  1/13 [protobuf]\n",
      "   ------ ---------------------------------  2/13 [grpcio]\n",
      "   ------ ---------------------------------  2/13 [grpcio]\n",
      "   ------ ---------------------------------  2/13 [grpcio]\n",
      "   ------ ---------------------------------  2/13 [grpcio]\n",
      "   ------ ---------------------------------  2/13 [grpcio]\n",
      "   ------ ---------------------------------  2/13 [grpcio]\n",
      "   --------- ------------------------------  3/13 [greenlet]\n",
      "   --------- ------------------------------  3/13 [greenlet]\n",
      "   --------- ------------------------------  3/13 [greenlet]\n",
      "   ------------ ---------------------------  4/13 [SQLAlchemy]\n",
      "   ------------ ---------------------------  4/13 [SQLAlchemy]\n",
      "   ------------ ---------------------------  4/13 [SQLAlchemy]\n",
      "   ------------ ---------------------------  4/13 [SQLAlchemy]\n",
      "   ------------ ---------------------------  4/13 [SQLAlchemy]\n",
      "   ------------ ---------------------------  4/13 [SQLAlchemy]\n",
      "   ------------ ---------------------------  4/13 [SQLAlchemy]\n",
      "   ------------ ---------------------------  4/13 [SQLAlchemy]\n",
      "   ------------ ---------------------------  4/13 [SQLAlchemy]\n",
      "   ------------ ---------------------------  4/13 [SQLAlchemy]\n",
      "   ------------ ---------------------------  4/13 [SQLAlchemy]\n",
      "   ------------ ---------------------------  4/13 [SQLAlchemy]\n",
      "   ------------ ---------------------------  4/13 [SQLAlchemy]\n",
      "   ------------ ---------------------------  4/13 [SQLAlchemy]\n",
      "   ------------ ---------------------------  4/13 [SQLAlchemy]\n",
      "   ------------ ---------------------------  4/13 [SQLAlchemy]\n",
      "   ------------ ---------------------------  4/13 [SQLAlchemy]\n",
      "   ------------ ---------------------------  4/13 [SQLAlchemy]\n",
      "   ------------ ---------------------------  4/13 [SQLAlchemy]\n",
      "   ------------ ---------------------------  4/13 [SQLAlchemy]\n",
      "   ------------ ---------------------------  4/13 [SQLAlchemy]\n",
      "   ------------ ---------------------------  4/13 [SQLAlchemy]\n",
      "   ------------ ---------------------------  4/13 [SQLAlchemy]\n",
      "   ------------ ---------------------------  4/13 [SQLAlchemy]\n",
      "   ------------ ---------------------------  4/13 [SQLAlchemy]\n",
      "   ------------ ---------------------------  4/13 [SQLAlchemy]\n",
      "   ------------ ---------------------------  4/13 [SQLAlchemy]\n",
      "   ------------ ---------------------------  4/13 [SQLAlchemy]\n",
      "   ------------ ---------------------------  4/13 [SQLAlchemy]\n",
      "   ------------ ---------------------------  4/13 [SQLAlchemy]\n",
      "   ------------ ---------------------------  4/13 [SQLAlchemy]\n",
      "   ------------ ---------------------------  4/13 [SQLAlchemy]\n",
      "   ------------ ---------------------------  4/13 [SQLAlchemy]\n",
      "   ------------ ---------------------------  4/13 [SQLAlchemy]\n",
      "   ------------ ---------------------------  4/13 [SQLAlchemy]\n",
      "   ------------ ---------------------------  4/13 [SQLAlchemy]\n",
      "   ------------ ---------------------------  4/13 [SQLAlchemy]\n",
      "   ------------ ---------------------------  4/13 [SQLAlchemy]\n",
      "   ------------ ---------------------------  4/13 [SQLAlchemy]\n",
      "   --------------- ------------------------  5/13 [proto-plus]\n",
      "   --------------- ------------------------  5/13 [proto-plus]\n",
      "   --------------- ------------------------  5/13 [proto-plus]\n",
      "   ------------------ ---------------------  6/13 [googleapis-common-protos]\n",
      "   ------------------ ---------------------  6/13 [googleapis-common-protos]\n",
      "   ------------------ ---------------------  6/13 [googleapis-common-protos]\n",
      "   ------------------ ---------------------  6/13 [googleapis-common-protos]\n",
      "   ------------------ ---------------------  6/13 [googleapis-common-protos]\n",
      "   ------------------ ---------------------  6/13 [googleapis-common-protos]\n",
      "   ------------------ ---------------------  6/13 [googleapis-common-protos]\n",
      "   ------------------ ---------------------  6/13 [googleapis-common-protos]\n",
      "   ------------------ ---------------------  6/13 [googleapis-common-protos]\n",
      "   ------------------ ---------------------  6/13 [googleapis-common-protos]\n",
      "   ------------------ ---------------------  6/13 [googleapis-common-protos]\n",
      "   --------------------- ------------------  7/13 [grpcio-status]\n",
      "   ------------------------ ---------------  8/13 [google-api-core]\n",
      "   ------------------------ ---------------  8/13 [google-api-core]\n",
      "   ------------------------ ---------------  8/13 [google-api-core]\n",
      "   ------------------------ ---------------  8/13 [google-api-core]\n",
      "   ------------------------ ---------------  8/13 [google-api-core]\n",
      "   ------------------------ ---------------  8/13 [google-api-core]\n",
      "   --------------------------- ------------  9/13 [langchain-text-splitters]\n",
      "   --------------------------- ------------  9/13 [langchain-text-splitters]\n",
      "   ------------------------------ -------- 10/13 [google-ai-generativelanguage]\n",
      "   ------------------------------ -------- 10/13 [google-ai-generativelanguage]\n",
      "   ------------------------------ -------- 10/13 [google-ai-generativelanguage]\n",
      "   ------------------------------ -------- 10/13 [google-ai-generativelanguage]\n",
      "   ------------------------------ -------- 10/13 [google-ai-generativelanguage]\n",
      "   ------------------------------ -------- 10/13 [google-ai-generativelanguage]\n",
      "   ------------------------------ -------- 10/13 [google-ai-generativelanguage]\n",
      "   ------------------------------ -------- 10/13 [google-ai-generativelanguage]\n",
      "   ------------------------------ -------- 10/13 [google-ai-generativelanguage]\n",
      "   ------------------------------ -------- 10/13 [google-ai-generativelanguage]\n",
      "   ------------------------------ -------- 10/13 [google-ai-generativelanguage]\n",
      "   ------------------------------ -------- 10/13 [google-ai-generativelanguage]\n",
      "   ------------------------------ -------- 10/13 [google-ai-generativelanguage]\n",
      "   ------------------------------ -------- 10/13 [google-ai-generativelanguage]\n",
      "   ------------------------------ -------- 10/13 [google-ai-generativelanguage]\n",
      "   ------------------------------ -------- 10/13 [google-ai-generativelanguage]\n",
      "   ------------------------------ -------- 10/13 [google-ai-generativelanguage]\n",
      "   ------------------------------ -------- 10/13 [google-ai-generativelanguage]\n",
      "   ------------------------------ -------- 10/13 [google-ai-generativelanguage]\n",
      "   ------------------------------ -------- 10/13 [google-ai-generativelanguage]\n",
      "   ------------------------------ -------- 10/13 [google-ai-generativelanguage]\n",
      "   ------------------------------ -------- 10/13 [google-ai-generativelanguage]\n",
      "   ------------------------------ -------- 10/13 [google-ai-generativelanguage]\n",
      "   ------------------------------ -------- 10/13 [google-ai-generativelanguage]\n",
      "   ------------------------------ -------- 10/13 [google-ai-generativelanguage]\n",
      "   ------------------------------ -------- 10/13 [google-ai-generativelanguage]\n",
      "   ------------------------------ -------- 10/13 [google-ai-generativelanguage]\n",
      "   ------------------------------ -------- 10/13 [google-ai-generativelanguage]\n",
      "   ------------------------------ -------- 10/13 [google-ai-generativelanguage]\n",
      "   ------------------------------ -------- 10/13 [google-ai-generativelanguage]\n",
      "   ------------------------------ -------- 10/13 [google-ai-generativelanguage]\n",
      "   ------------------------------ -------- 10/13 [google-ai-generativelanguage]\n",
      "   ------------------------------ -------- 10/13 [google-ai-generativelanguage]\n",
      "   ------------------------------ -------- 10/13 [google-ai-generativelanguage]\n",
      "   ------------------------------ -------- 10/13 [google-ai-generativelanguage]\n",
      "   ------------------------------ -------- 10/13 [google-ai-generativelanguage]\n",
      "   ------------------------------ -------- 10/13 [google-ai-generativelanguage]\n",
      "   ------------------------------ -------- 10/13 [google-ai-generativelanguage]\n",
      "   ------------------------------ -------- 10/13 [google-ai-generativelanguage]\n",
      "   ------------------------------ -------- 10/13 [google-ai-generativelanguage]\n",
      "   ------------------------------ -------- 10/13 [google-ai-generativelanguage]\n",
      "   ------------------------------ -------- 10/13 [google-ai-generativelanguage]\n",
      "   ------------------------------ -------- 10/13 [google-ai-generativelanguage]\n",
      "   ------------------------------ -------- 10/13 [google-ai-generativelanguage]\n",
      "   --------------------------------- ------ 11/13 [langchain-google-genai]\n",
      "   --------------------------------- ------ 11/13 [langchain-google-genai]\n",
      "   ------------------------------------ --- 12/13 [langchain]\n",
      "   ------------------------------------ --- 12/13 [langchain]\n",
      "   ------------------------------------ --- 12/13 [langchain]\n",
      "   ------------------------------------ --- 12/13 [langchain]\n",
      "   ------------------------------------ --- 12/13 [langchain]\n",
      "   ------------------------------------ --- 12/13 [langchain]\n",
      "   ------------------------------------ --- 12/13 [langchain]\n",
      "   ------------------------------------ --- 12/13 [langchain]\n",
      "   ------------------------------------ --- 12/13 [langchain]\n",
      "   ------------------------------------ --- 12/13 [langchain]\n",
      "   ------------------------------------ --- 12/13 [langchain]\n",
      "   ------------------------------------ --- 12/13 [langchain]\n",
      "   ------------------------------------ --- 12/13 [langchain]\n",
      "   ------------------------------------ --- 12/13 [langchain]\n",
      "   ------------------------------------ --- 12/13 [langchain]\n",
      "   ------------------------------------ --- 12/13 [langchain]\n",
      "   ------------------------------------ --- 12/13 [langchain]\n",
      "   ------------------------------------ --- 12/13 [langchain]\n",
      "   ------------------------------------ --- 12/13 [langchain]\n",
      "   ------------------------------------ --- 12/13 [langchain]\n",
      "   ------------------------------------ --- 12/13 [langchain]\n",
      "   ------------------------------------ --- 12/13 [langchain]\n",
      "   ------------------------------------ --- 12/13 [langchain]\n",
      "   ------------------------------------ --- 12/13 [langchain]\n",
      "   ------------------------------------ --- 12/13 [langchain]\n",
      "   ------------------------------------ --- 12/13 [langchain]\n",
      "   ------------------------------------ --- 12/13 [langchain]\n",
      "   ------------------------------------ --- 12/13 [langchain]\n",
      "   ------------------------------------ --- 12/13 [langchain]\n",
      "   ------------------------------------ --- 12/13 [langchain]\n",
      "   ------------------------------------ --- 12/13 [langchain]\n",
      "   ------------------------------------ --- 12/13 [langchain]\n",
      "   ------------------------------------ --- 12/13 [langchain]\n",
      "   ------------------------------------ --- 12/13 [langchain]\n",
      "   ------------------------------------ --- 12/13 [langchain]\n",
      "   ------------------------------------ --- 12/13 [langchain]\n",
      "   ------------------------------------ --- 12/13 [langchain]\n",
      "   ------------------------------------ --- 12/13 [langchain]\n",
      "   ------------------------------------ --- 12/13 [langchain]\n",
      "   ------------------------------------ --- 12/13 [langchain]\n",
      "   ------------------------------------ --- 12/13 [langchain]\n",
      "   ------------------------------------ --- 12/13 [langchain]\n",
      "   ------------------------------------ --- 12/13 [langchain]\n",
      "   ------------------------------------ --- 12/13 [langchain]\n",
      "   ------------------------------------ --- 12/13 [langchain]\n",
      "   ------------------------------------ --- 12/13 [langchain]\n",
      "   ------------------------------------ --- 12/13 [langchain]\n",
      "   ------------------------------------ --- 12/13 [langchain]\n",
      "   ------------------------------------ --- 12/13 [langchain]\n",
      "   ------------------------------------ --- 12/13 [langchain]\n",
      "   ------------------------------------ --- 12/13 [langchain]\n",
      "   ------------------------------------ --- 12/13 [langchain]\n",
      "   ------------------------------------ --- 12/13 [langchain]\n",
      "   ------------------------------------ --- 12/13 [langchain]\n",
      "   ------------------------------------ --- 12/13 [langchain]\n",
      "   ------------------------------------ --- 12/13 [langchain]\n",
      "   ------------------------------------ --- 12/13 [langchain]\n",
      "   ------------------------------------ --- 12/13 [langchain]\n",
      "   ------------------------------------ --- 12/13 [langchain]\n",
      "   ------------------------------------ --- 12/13 [langchain]\n",
      "   ------------------------------------ --- 12/13 [langchain]\n",
      "   ------------------------------------ --- 12/13 [langchain]\n",
      "   ------------------------------------ --- 12/13 [langchain]\n",
      "   ------------------------------------ --- 12/13 [langchain]\n",
      "   ------------------------------------ --- 12/13 [langchain]\n",
      "   ------------------------------------ --- 12/13 [langchain]\n",
      "   ------------------------------------ --- 12/13 [langchain]\n",
      "   ------------------------------------ --- 12/13 [langchain]\n",
      "   ------------------------------------ --- 12/13 [langchain]\n",
      "   ------------------------------------ --- 12/13 [langchain]\n",
      "   ------------------------------------ --- 12/13 [langchain]\n",
      "   ------------------------------------ --- 12/13 [langchain]\n",
      "   ------------------------------------ --- 12/13 [langchain]\n",
      "   ------------------------------------ --- 12/13 [langchain]\n",
      "   ------------------------------------ --- 12/13 [langchain]\n",
      "   ------------------------------------ --- 12/13 [langchain]\n",
      "   ------------------------------------ --- 12/13 [langchain]\n",
      "   ------------------------------------ --- 12/13 [langchain]\n",
      "   ------------------------------------ --- 12/13 [langchain]\n",
      "   ------------------------------------ --- 12/13 [langchain]\n",
      "   ------------------------------------ --- 12/13 [langchain]\n",
      "   ------------------------------------ --- 12/13 [langchain]\n",
      "   ------------------------------------ --- 12/13 [langchain]\n",
      "   ------------------------------------ --- 12/13 [langchain]\n",
      "   ------------------------------------ --- 12/13 [langchain]\n",
      "   ------------------------------------ --- 12/13 [langchain]\n",
      "   ------------------------------------ --- 12/13 [langchain]\n",
      "   ------------------------------------ --- 12/13 [langchain]\n",
      "   ------------------------------------ --- 12/13 [langchain]\n",
      "   ------------------------------------ --- 12/13 [langchain]\n",
      "   ------------------------------------ --- 12/13 [langchain]\n",
      "   ------------------------------------ --- 12/13 [langchain]\n",
      "   ------------------------------------ --- 12/13 [langchain]\n",
      "   ------------------------------------ --- 12/13 [langchain]\n",
      "   ------------------------------------ --- 12/13 [langchain]\n",
      "   ------------------------------------ --- 12/13 [langchain]\n",
      "   ------------------------------------ --- 12/13 [langchain]\n",
      "   ------------------------------------ --- 12/13 [langchain]\n",
      "   ------------------------------------ --- 12/13 [langchain]\n",
      "   ------------------------------------ --- 12/13 [langchain]\n",
      "   ------------------------------------ --- 12/13 [langchain]\n",
      "   ------------------------------------ --- 12/13 [langchain]\n",
      "   ------------------------------------ --- 12/13 [langchain]\n",
      "   ------------------------------------ --- 12/13 [langchain]\n",
      "   ------------------------------------ --- 12/13 [langchain]\n",
      "   ------------------------------------ --- 12/13 [langchain]\n",
      "   ------------------------------------ --- 12/13 [langchain]\n",
      "   ------------------------------------ --- 12/13 [langchain]\n",
      "   ------------------------------------ --- 12/13 [langchain]\n",
      "   ------------------------------------ --- 12/13 [langchain]\n",
      "   ------------------------------------ --- 12/13 [langchain]\n",
      "   ------------------------------------ --- 12/13 [langchain]\n",
      "   ------------------------------------ --- 12/13 [langchain]\n",
      "   ------------------------------------ --- 12/13 [langchain]\n",
      "   ------------------------------------ --- 12/13 [langchain]\n",
      "   ------------------------------------ --- 12/13 [langchain]\n",
      "   ------------------------------------ --- 12/13 [langchain]\n",
      "   ------------------------------------ --- 12/13 [langchain]\n",
      "   ------------------------------------ --- 12/13 [langchain]\n",
      "   ------------------------------------ --- 12/13 [langchain]\n",
      "   ------------------------------------ --- 12/13 [langchain]\n",
      "   ------------------------------------ --- 12/13 [langchain]\n",
      "   ------------------------------------ --- 12/13 [langchain]\n",
      "   ------------------------------------ --- 12/13 [langchain]\n",
      "   ------------------------------------ --- 12/13 [langchain]\n",
      "   ------------------------------------ --- 12/13 [langchain]\n",
      "   ------------------------------------ --- 12/13 [langchain]\n",
      "   ---------------------------------------- 13/13 [langchain]\n",
      "\n",
      "Successfully installed SQLAlchemy-2.0.43 filetype-1.2.0 google-ai-generativelanguage-0.6.18 google-api-core-2.25.1 googleapis-common-protos-1.70.0 greenlet-3.2.4 grpcio-1.74.0 grpcio-status-1.74.0 langchain-0.3.27 langchain-google-genai-2.1.10 langchain-text-splitters-0.3.11 proto-plus-1.26.1 protobuf-6.32.0\n"
     ]
    }
   ],
   "source": [
    "!pip install langchain-google-genai langchain"
   ]
  },
  {
   "cell_type": "code",
   "execution_count": 11,
   "id": "b4d9d9f4",
   "metadata": {},
   "outputs": [],
   "source": [
    "from langchain.chat_models import init_chat_model"
   ]
  },
  {
   "cell_type": "code",
   "execution_count": 14,
   "id": "2d5cfed1",
   "metadata": {},
   "outputs": [],
   "source": [
    "llm = init_chat_model(\"google_genai:gemini-2.0-flash\")"
   ]
  },
  {
   "cell_type": "code",
   "execution_count": 18,
   "id": "09498eca",
   "metadata": {},
   "outputs": [
    {
     "data": {
      "text/plain": [
       "AIMessage(content=\"LangChain is a framework designed to simplify the development of applications powered by large language models (LLMs). Think of it as a toolkit that helps you connect LLMs to other data sources and tools, allowing you to build more complex and powerful applications.\\n\\nHere's a breakdown of what LangChain is and what it does:\\n\\n**Key Concepts and Components:**\\n\\n* **LLMs (Large Language Models):** These are the core engines of LangChain applications. Examples include GPT-3, GPT-4, PaLM, and open-source models like Llama 2. LangChain provides interfaces and abstractions to interact with these models.\\n\\n* **Chains:** These are sequences of calls, whether to an LLM or a utility.  They represent a structured way to combine multiple components to achieve a specific goal.  For example, a chain might first retrieve relevant documents, then use an LLM to answer a question based on those documents.\\n\\n* **Indexes:**  LangChain provides tools for indexing and retrieving data, making it easier to ground LLMs in specific knowledge bases.  This is crucial for tasks like question answering over your own documents.\\n\\n* **Memory:** LLMs are stateless; they don't remember previous interactions. LangChain provides mechanisms to add memory to your applications, allowing them to maintain context and have more natural conversations.\\n\\n* **Agents:** Agents use an LLM to determine which actions to take. They can use tools like search engines, calculators, or even other chains to accomplish tasks. They are more dynamic and flexible than chains.\\n\\n* **Callbacks:**  Allow you to hook into the different stages of a LangChain application (e.g., before and after an LLM call) to log information, track progress, or perform other actions.\\n\\n**Why Use LangChain?**\\n\\n* **Abstraction and Standardization:** LangChain provides a consistent interface for working with different LLMs and tools, reducing the need to write custom code for each.\\n\\n* **Modularity and Composability:**  You can easily combine different components of LangChain to create complex workflows.\\n\\n* **Rapid Prototyping:** LangChain simplifies the development process, allowing you to quickly build and iterate on LLM-powered applications.\\n\\n* **Community and Ecosystem:**  LangChain has a large and active community, which contributes to its growth and provides support.  A vibrant ecosystem of integrations and extensions is also developing around it.\\n\\n**Use Cases:**\\n\\nLangChain is used in a wide range of applications, including:\\n\\n* **Chatbots:** Building conversational AI agents that can answer questions, provide information, and perform tasks.\\n* **Question Answering:** Answering questions based on specific documents or knowledge bases.\\n* **Text Summarization:** Condensing large amounts of text into shorter, more concise summaries.\\n* **Code Generation:**  Generating code from natural language descriptions.\\n* **Data Augmentation:**  Generating synthetic data to improve the performance of machine learning models.\\n* **Personalized Recommendations:** Providing personalized recommendations based on user preferences and history.\\n* **Agent-Based Systems:** Building autonomous agents that can perform complex tasks by interacting with the world through various tools.\\n\\n**In Summary:**\\n\\nLangChain is a powerful framework that simplifies the development of applications powered by large language models. It provides a set of tools and abstractions for connecting LLMs to other data sources and tools, allowing you to build more complex and powerful applications than you could with just the raw LLMs themselves.  It's a valuable tool for anyone looking to leverage the power of LLMs in their projects.\", additional_kwargs={}, response_metadata={'prompt_feedback': {'block_reason': 0, 'safety_ratings': []}, 'finish_reason': 'STOP', 'model_name': 'gemini-2.0-flash', 'safety_ratings': []}, id='run--054a240f-20f0-4739-a5bd-42b09fd3bf2b-0', usage_metadata={'input_tokens': 5, 'output_tokens': 732, 'total_tokens': 737, 'input_token_details': {'cache_read': 0}})"
      ]
     },
     "execution_count": 18,
     "metadata": {},
     "output_type": "execute_result"
    }
   ],
   "source": [
    "llm_response = llm.invoke(\"what is langchain?\")\n",
    "llm_response"
   ]
  },
  {
   "cell_type": "code",
   "execution_count": 23,
   "id": "fdf3e082",
   "metadata": {},
   "outputs": [
    {
     "data": {
      "text/plain": [
       "\"LangChain is a framework designed to simplify the development of applications powered by large language models (LLMs). Think of it as a toolkit that helps you connect LLMs to other data sources and tools, allowing you to build more complex and powerful applications.\\n\\nHere's a breakdown of what LangChain is and what it does:\\n\\n**Key Concepts and Components:**\\n\\n* **LLMs (Large Language Models):** These are the core engines of LangChain applications. Examples include GPT-3, GPT-4, PaLM, and open-source models like Llama 2. LangChain provides interfaces and abstractions to interact with these models.\\n\\n* **Chains:** These are sequences of calls, whether to an LLM or a utility.  They represent a structured way to combine multiple components to achieve a specific goal.  For example, a chain might first retrieve relevant documents, then use an LLM to answer a question based on those documents.\\n\\n* **Indexes:**  LangChain provides tools for indexing and retrieving data, making it easier to ground LLMs in specific knowledge bases.  This is crucial for tasks like question answering over your own documents.\\n\\n* **Memory:** LLMs are stateless; they don't remember previous interactions. LangChain provides mechanisms to add memory to your applications, allowing them to maintain context and have more natural conversations.\\n\\n* **Agents:** Agents use an LLM to determine which actions to take. They can use tools like search engines, calculators, or even other chains to accomplish tasks. They are more dynamic and flexible than chains.\\n\\n* **Callbacks:**  Allow you to hook into the different stages of a LangChain application (e.g., before and after an LLM call) to log information, track progress, or perform other actions.\\n\\n**Why Use LangChain?**\\n\\n* **Abstraction and Standardization:** LangChain provides a consistent interface for working with different LLMs and tools, reducing the need to write custom code for each.\\n\\n* **Modularity and Composability:**  You can easily combine different components of LangChain to create complex workflows.\\n\\n* **Rapid Prototyping:** LangChain simplifies the development process, allowing you to quickly build and iterate on LLM-powered applications.\\n\\n* **Community and Ecosystem:**  LangChain has a large and active community, which contributes to its growth and provides support.  A vibrant ecosystem of integrations and extensions is also developing around it.\\n\\n**Use Cases:**\\n\\nLangChain is used in a wide range of applications, including:\\n\\n* **Chatbots:** Building conversational AI agents that can answer questions, provide information, and perform tasks.\\n* **Question Answering:** Answering questions based on specific documents or knowledge bases.\\n* **Text Summarization:** Condensing large amounts of text into shorter, more concise summaries.\\n* **Code Generation:**  Generating code from natural language descriptions.\\n* **Data Augmentation:**  Generating synthetic data to improve the performance of machine learning models.\\n* **Personalized Recommendations:** Providing personalized recommendations based on user preferences and history.\\n* **Agent-Based Systems:** Building autonomous agents that can perform complex tasks by interacting with the world through various tools.\\n\\n**In Summary:**\\n\\nLangChain is a powerful framework that simplifies the development of applications powered by large language models. It provides a set of tools and abstractions for connecting LLMs to other data sources and tools, allowing you to build more complex and powerful applications than you could with just the raw LLMs themselves.  It's a valuable tool for anyone looking to leverage the power of LLMs in their projects.\""
      ]
     },
     "execution_count": 23,
     "metadata": {},
     "output_type": "execute_result"
    }
   ],
   "source": [
    "llm_response.content"
   ]
  },
  {
   "cell_type": "code",
   "execution_count": 22,
   "id": "33f99ec4",
   "metadata": {},
   "outputs": [
    {
     "data": {
      "text/plain": [
       "{'prompt_feedback': {'block_reason': 0, 'safety_ratings': []},\n",
       " 'finish_reason': 'STOP',\n",
       " 'model_name': 'gemini-2.0-flash',\n",
       " 'safety_ratings': []}"
      ]
     },
     "execution_count": 22,
     "metadata": {},
     "output_type": "execute_result"
    }
   ],
   "source": [
    "llm_response.response_metadata"
   ]
  },
  {
   "cell_type": "code",
   "execution_count": 34,
   "id": "8d5bb526",
   "metadata": {},
   "outputs": [],
   "source": [
    "from typing import Annotated\n",
    "from typing_extensions import TypedDict\n",
    "from langchain.chat_models import init_chat_model\n",
    "from langgraph.graph import StateGraph, START, END\n",
    "from langgraph.graph.message import add_messages"
   ]
  },
  {
   "cell_type": "code",
   "execution_count": 35,
   "id": "2805851b",
   "metadata": {},
   "outputs": [],
   "source": [
    "class State(TypedDict):\n",
    "    messages: Annotated[list, add_messages]\n",
    "\n",
    "def chatbot(state: State) -> State:\n",
    "    return {\"messages\": [llm.invoke(state[\"messages\"])]}\n",
    "\n",
    "builder = StateGraph(State)\n",
    "builder.add_node(\"chatbot_node\", chatbot)\n",
    "\n",
    "builder.add_edge(START, \"chatbot_node\")\n",
    "builder.add_edge(\"chatbot_node\", END)\n",
    "\n",
    "graph = builder.compile()"
   ]
  },
  {
   "cell_type": "code",
   "execution_count": 36,
   "id": "3ff09c3c",
   "metadata": {},
   "outputs": [],
   "source": [
    "message = {\"role\": \"user\", \"content\" : \"Who walked on the moon for the first time? Print only the name.\"}\n",
    "response = graph.invoke({\"messages\": [message]})"
   ]
  },
  {
   "cell_type": "code",
   "execution_count": 38,
   "id": "cbe58956",
   "metadata": {},
   "outputs": [
    {
     "data": {
      "text/plain": [
       "[HumanMessage(content='Who walked on the moon for the first time? Print only the name.', additional_kwargs={}, response_metadata={}, id='1ace160c-5142-4c2d-9406-64faf5a26783'),\n",
       " AIMessage(content='Neil Armstrong', additional_kwargs={}, response_metadata={'prompt_feedback': {'block_reason': 0, 'safety_ratings': []}, 'finish_reason': 'STOP', 'model_name': 'gemini-2.0-flash', 'safety_ratings': []}, id='run--0a1e74f6-2174-4d84-8007-d9defb7c59f2-0', usage_metadata={'input_tokens': 15, 'output_tokens': 3, 'total_tokens': 18, 'input_token_details': {'cache_read': 0}})]"
      ]
     },
     "execution_count": 38,
     "metadata": {},
     "output_type": "execute_result"
    }
   ],
   "source": [
    "response[\"messages\"]"
   ]
  },
  {
   "cell_type": "code",
   "execution_count": 43,
   "id": "c41d99aa",
   "metadata": {},
   "outputs": [
    {
     "name": "stdout",
     "output_type": "stream",
     "text": [
      "Bot: Neil Armstrong was the first person to land on the moon.\n",
      "Bot: Neil Armstrong landed on the moon in **1969**.\n"
     ]
    }
   ],
   "source": [
    "state = None\n",
    "while True:\n",
    "    in_message = input(\"You: \")\n",
    "    if in_message.lower() in [\"exit\", \"quit\"]:\n",
    "        break\n",
    "    if state is None:\n",
    "        state = {\"messages\": [{\"role\": \"user\", \"content\": in_message}]} \n",
    "    else:\n",
    "        state[\"messages\"].append({\"role\": \"user\", \"content\": in_message})\n",
    "\n",
    "    state = graph.invoke(state)\n",
    "    print(\"Bot:\", state[\"messages\"][-1].content)"
   ]
  },
  {
   "cell_type": "code",
   "execution_count": 39,
   "id": "b1d9165e",
   "metadata": {},
   "outputs": [
    {
     "data": {
      "text/plain": [
       "[HumanMessage(content='What is the latest price of APPL stock?', additional_kwargs={}, response_metadata={}, id='33a169aa-a8cd-41a8-a6a3-e16f457799bf'),\n",
       " AIMessage(content='Unfortunately, I cannot give you the exact, real-time price of AAPL stock. Stock prices change constantly throughout the day.\\n\\nHowever, here\\'s how you can find the most up-to-date information:\\n\\n*   **Reliable Online Financial Websites:** Go to a reputable financial website like Google Finance, Yahoo Finance, Bloomberg, or MarketWatch. Search for \"AAPL\" (Apple\\'s stock ticker symbol) on any of these sites. They will provide real-time stock quotes, charts, and other relevant information.\\n*   **Brokerage Account:** If you have a brokerage account (e.g., Fidelity, Schwab, Robinhood), log in to your account. The stock price will be displayed there.', additional_kwargs={}, response_metadata={'prompt_feedback': {'block_reason': 0, 'safety_ratings': []}, 'finish_reason': 'STOP', 'model_name': 'gemini-2.0-flash', 'safety_ratings': []}, id='run--49e28112-80a4-42f7-953c-9b667ac1d8ef-0', usage_metadata={'input_tokens': 10, 'output_tokens': 149, 'total_tokens': 159, 'input_token_details': {'cache_read': 0}})]"
      ]
     },
     "execution_count": 39,
     "metadata": {},
     "output_type": "execute_result"
    }
   ],
   "source": [
    "message = {\"role\": \"user\", \"content\" : \"What is the latest price of APPL stock?\"}\n",
    "response = graph.invoke({\"messages\": [message]})\n",
    "response[\"messages\"]"
   ]
  },
  {
   "cell_type": "code",
   "execution_count": null,
   "id": "62995936",
   "metadata": {},
   "outputs": [],
   "source": []
  }
 ],
 "metadata": {
  "kernelspec": {
   "display_name": "Python 3",
   "language": "python",
   "name": "python3"
  },
  "language_info": {
   "codemirror_mode": {
    "name": "ipython",
    "version": 3
   },
   "file_extension": ".py",
   "mimetype": "text/x-python",
   "name": "python",
   "nbconvert_exporter": "python",
   "pygments_lexer": "ipython3",
   "version": "3.13.7"
  }
 },
 "nbformat": 4,
 "nbformat_minor": 5
}
